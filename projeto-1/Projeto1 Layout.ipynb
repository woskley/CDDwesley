{
 "cells": [
  {
   "cell_type": "markdown",
   "metadata": {},
   "source": [
    "___\n",
    "# PROJETO 1"
   ]
  },
  {
   "cell_type": "markdown",
   "metadata": {},
   "source": [
    "## <font color='red'>WESLEY 2A</font>\n",
    "___"
   ]
  },
  {
   "cell_type": "markdown",
   "metadata": {},
   "source": [
    "## <font color='Black'>SItuacao dos aposentados no Brasil</font>"
   ]
  },
  {
   "cell_type": "markdown",
   "metadata": {},
   "source": [
    "## Introdução\n",
    "\n",
    "Pretendo analisar a condicao dos aposentados no brasil,vou analisar as diferencas os aposentados homens e mulher."
   ]
  },
  {
   "cell_type": "markdown",
   "metadata": {},
   "source": [
    "___\n",
    "## Análise e Resultados"
   ]
  },
  {
   "cell_type": "code",
   "execution_count": 1,
   "metadata": {
    "collapsed": true
   },
   "outputs": [],
   "source": [
    "%matplotlib inline\n",
    "import pandas as pd\n",
    "import matplotlib.pyplot as plt\n",
    "import numpy as np\n",
    "import os"
   ]
  },
  {
   "cell_type": "code",
   "execution_count": 2,
   "metadata": {
    "collapsed": false
   },
   "outputs": [
    {
     "name": "stdout",
     "output_type": "stream",
     "text": [
      "Esperamos trabalhar no diretório\n",
      "/Users/WESLEY/Documents/CIENCIA DOS DADOS/CDEng-master/Projeto1\n"
     ]
    }
   ],
   "source": [
    "print('Esperamos trabalhar no diretório')\n",
    "print(os.getcwd())"
   ]
  },
  {
   "cell_type": "code",
   "execution_count": 3,
   "metadata": {
    "collapsed": false
   },
   "outputs": [],
   "source": [
    "\"\"\"Vamos ler a estrutura da PNAD como um dataframe.\n",
    "    São muitas colunas e precisamos usar a informação de tamanho para ler a PNAD de fato\n",
    "    como uma base de tamanho fixo\"\"\"\n",
    "estrutura = pd.read_table(\"pes_py.txt\", sep=\";\")"
   ]
  },
  {
   "cell_type": "code",
   "execution_count": 4,
   "metadata": {
    "collapsed": false
   },
   "outputs": [],
   "source": [
    "pnad = pd.read_fwf(\"PES2014.txt\", widths = estrutura.Tamanho, header = None)\n",
    "pnad.columns = estrutura.Coluna"
   ]
  },
  {
   "cell_type": "code",
   "execution_count": 5,
   "metadata": {
    "collapsed": false
   },
   "outputs": [
    {
     "data": {
      "text/plain": [
       "<bound method NDFrame.head of Coluna  V0101  UF  V0102  V0103  V0301  V0302  V3031  V3032  V3033  V8005  \\\n",
       "0        2014  11     15      1      1      2     19      8   1987     27   \n",
       "1        2014  11     15      1      2      4     19      1   1986     28   \n",
       "2        2014  11     15      1      3      2     14      5   2013      1   \n",
       "3        2014  11     15      2      1      2      8      4   1963     51   \n",
       "4        2014  11     15      2      2      4      6     11   1970     43   \n",
       "5        2014  11     15      3      1      4      5      1   1937     77   \n",
       "6        2014  11     15      4      1      4     15      3   1975     39   \n",
       "7        2014  11     15      4      2      2      7      3   1954     60   \n",
       "8        2014  11     15      4      3      4      2      4   1998     16   \n",
       "9        2014  11     15      4      4      2     21      5   1999     15   \n",
       "10       2014  11     15      4      5      4      1     11   2001     12   \n",
       "11       2014  11     15      5      1      4     13      7   1946     68   \n",
       "12       2014  11     15      5      2      4      7     10   1978     35   \n",
       "13       2014  11     15      5      3      4     21      7   1996     18   \n",
       "14       2014  11     15      5      4      2     24      8   2000     14   \n",
       "15       2014  11     15      6      1      2     20     11   1953     60   \n",
       "16       2014  11     15      6      2      4      9      6   1956     58   \n",
       "17       2014  11     15      7      1      4     12     12   1958     55   \n",
       "18       2014  11     15      7      2      2     22      3   1954     60   \n",
       "19       2014  11     15      7      3      2     10      6   1981     33   \n",
       "20       2014  11     15      7      4      2     10      6   1981     33   \n",
       "21       2014  11     15      7      5      2      3      6   1985     29   \n",
       "22       2014  11     15      8      1      2     15      3   1975     39   \n",
       "23       2014  11     15      8      2      4     12      2   1972     42   \n",
       "24       2014  11     15      8      3      2      5      5   2009      5   \n",
       "25       2014  11     15     10      1      2     15     10   1948     65   \n",
       "26       2014  11     15     10      2      4     24      6   1952     62   \n",
       "27       2014  11     15     11      1      2     20     12   1965     48   \n",
       "28       2014  11     15     11      2      4      9     11   1965     48   \n",
       "29       2014  11     15     11      3      2      3      7   1994     20   \n",
       "...       ...  ..    ...    ...    ...    ...    ...    ...    ...    ...   \n",
       "362597   2014  53   2148      9      3      2      5      9   1995     19   \n",
       "362598   2014  53   2148      9      4      2     22      1   2000     14   \n",
       "362599   2014  53   2148     10      1      4     21      7   1968     46   \n",
       "362600   2014  53   2148     10      2      2     30      8   1965     49   \n",
       "362601   2014  53   2148     10      3      2     10     12   1990     23   \n",
       "362602   2014  53   2148     10      4      2      5     10   1994     19   \n",
       "362603   2014  53   2148     10      5      4     30      5   2001     13   \n",
       "362604   2014  53   2148     11      1      2     29      9   1962     51   \n",
       "362605   2014  53   2148     11      2      4      0     20     39     39   \n",
       "362606   2014  53   2148     11      3      2     18      3   1992     22   \n",
       "362607   2014  53   2148     11      4      2     29      8   1990     24   \n",
       "362608   2014  53   2148     11      5      4     21      1   1995     19   \n",
       "362609   2014  53   2148     12      1      2     24     12   1953     60   \n",
       "362610   2014  53   2148     12      2      4      3      1   1961     53   \n",
       "362611   2014  53   2148     12      3      4     23      7   1987     27   \n",
       "362612   2014  53   2148     12      4      2     22      5   1989     25   \n",
       "362613   2014  53   2148     12      5      2      7     10   1994     19   \n",
       "362614   2014  53   2148     12      6      2     13      9   1997     17   \n",
       "362615   2014  53   2148     12      7      4     29      5   2001     13   \n",
       "362616   2014  53   2148     13      1      2     10      2   1959     55   \n",
       "362617   2014  53   2148     13      2      4     31     10   1964     49   \n",
       "362618   2014  53   2148     13      3      2     17      6   2007      7   \n",
       "362619   2014  53   2148     14      1      2     23      6   1991     23   \n",
       "362620   2014  53   2148     14      2      4     25     11   1989     24   \n",
       "362621   2014  53   2148     16      1      2      2      1   1987     27   \n",
       "362622   2014  53   2148     16      2      4      5      5   1983     31   \n",
       "362623   2014  53   2148     17      1      2      2      2   1968     46   \n",
       "362624   2014  53   2148     17      2      4      8      6   1978     36   \n",
       "362625   2014  53   2148     17      3      2      1      6   1996     18   \n",
       "362626   2014  53   2148     17      4      4     11      4   1997     17   \n",
       "\n",
       "Coluna    ...     V4741  V4742  V4743  V4745  V4746  V4747  V4748  V4749  \\\n",
       "0         ...         3    500      3      3      1      2      2      1   \n",
       "1         ...         3    500      3      4      2    NaN      2      1   \n",
       "2         ...         3    500      3      1    NaN    NaN    NaN    NaN   \n",
       "3         ...         2   1150      4      2      1      2      2      1   \n",
       "4         ...         2   1150      4      3      1      2      2      1   \n",
       "5         ...         1    724      3      2      2    NaN    NaN      2   \n",
       "6         ...         5   1700      5      4      2    NaN      2      1   \n",
       "7         ...         5   1700      5      1      1      2      2      1   \n",
       "8         ...         5   1700      5      4      1      2      2      1   \n",
       "9         ...         5   1700      5      3      2    NaN    NaN      2   \n",
       "10        ...         5   1700      5      2      2    NaN    NaN      2   \n",
       "11        ...         4    855      4      2      2    NaN    NaN      2   \n",
       "12        ...         4    855      4      6      1      2      2      1   \n",
       "13        ...         4    855      4      4      1      2      2      1   \n",
       "14        ...         4    855      4      2      2    NaN    NaN      2   \n",
       "15        ...         2    850      4      2      1      2      2      1   \n",
       "16        ...         2    850      4      2      1      2      2      1   \n",
       "17        ...         5   3220      6      2      1      2      2      1   \n",
       "18        ...         5   3220      6      7      1      2      2      1   \n",
       "19        ...         5   3220      6      7      1      2      2      1   \n",
       "20        ...         5   3220      6      5      1      2      2      1   \n",
       "21        ...         5   3220      6      7      1      2      2      1   \n",
       "22        ...         3    933      4      5      1      2      2      1   \n",
       "23        ...         3    933      4      5      1      2      2      1   \n",
       "24        ...         3    933      4      1      2    NaN    NaN      2   \n",
       "25        ...         2   2362      6      2      1      1      1      1   \n",
       "26        ...         2   2362      6      5      2    NaN    NaN      2   \n",
       "27        ...         5    804      4      3      1      2      2      1   \n",
       "28        ...         5    804      4      5      1      2      2      1   \n",
       "29        ...         5    804      4      6      1      2      2      1   \n",
       "...       ...       ...    ...    ...    ...    ...    ...    ...    ...   \n",
       "362597    ...         4    500      3      2      1      2      2      1   \n",
       "362598    ...         4    500      3      2      2    NaN    NaN      2   \n",
       "362599    ...         5   1140      4      7      1      2      2      1   \n",
       "362600    ...         5   1140      4      1      1      2      2      1   \n",
       "362601    ...         5   1140      4      2      1      2      2      1   \n",
       "362602    ...         5   1140      4      2      1      2      2      1   \n",
       "362603    ...         5   1140      4      2      2    NaN    NaN      2   \n",
       "362604    ...         5   1199      4      2      1      2      2      1   \n",
       "362605    ...         5   1199      4      3      1      2      2      1   \n",
       "362606    ...         5   1199      4      5      1      2      2      1   \n",
       "362607    ...         5   1199      4      5      1      2      2      1   \n",
       "362608    ...         5   1199      4      5      1      2      2      1   \n",
       "362609    ...         7    442      3      1      1      2      2      1   \n",
       "362610    ...         7    442      3      1      2    NaN    NaN      2   \n",
       "362611    ...         7    442      3      5      1      2      2      1   \n",
       "362612    ...         7    442      3      2      1      2      2      1   \n",
       "362613    ...         7    442      3      5      1      2      2      1   \n",
       "362614    ...         7    442      3      2      2    NaN    NaN      2   \n",
       "362615    ...         7    442      3      2      2    NaN    NaN      2   \n",
       "362616    ...         3   1266      4      3      1      2      2      1   \n",
       "362617    ...         3   1266      4      2      2    NaN    NaN      2   \n",
       "362618    ...         3   1266      4      1      2    NaN    NaN      2   \n",
       "362619    ...         2    500      3      2      2    NaN      2      1   \n",
       "362620    ...         2    500      3      4      1      2      2      1   \n",
       "362621    ...         2   2000      5      5      1      2      2      1   \n",
       "362622    ...         2   2000      5      5      1      2      2      1   \n",
       "362623    ...         4    910      4      1      1      2      2      1   \n",
       "362624    ...         4    910      4      1      1      2      2      1   \n",
       "362625    ...         4    910      4      3      2    NaN    NaN      2   \n",
       "362626    ...         4    910      4      4      2    NaN    NaN      2   \n",
       "\n",
       "Coluna  V4750     V9993  \n",
       "0         500  20160623  \n",
       "1         500  20160623  \n",
       "2         500  20160623  \n",
       "3        1150  20160623  \n",
       "4        1150  20160623  \n",
       "5         724  20160623  \n",
       "6        1700  20160623  \n",
       "7        1700  20160623  \n",
       "8        1700  20160623  \n",
       "9        1700  20160623  \n",
       "10       1700  20160623  \n",
       "11        855  20160623  \n",
       "12        855  20160623  \n",
       "13        855  20160623  \n",
       "14        855  20160623  \n",
       "15        850  20160623  \n",
       "16        850  20160623  \n",
       "17       3220  20160623  \n",
       "18       3220  20160623  \n",
       "19       3220  20160623  \n",
       "20       3220  20160623  \n",
       "21       3220  20160623  \n",
       "22        933  20160623  \n",
       "23        933  20160623  \n",
       "24        933  20160623  \n",
       "25       2362  20160623  \n",
       "26       2362  20160623  \n",
       "27        804  20160623  \n",
       "28        804  20160623  \n",
       "29        804  20160623  \n",
       "...       ...       ...  \n",
       "362597    500  20160623  \n",
       "362598    500  20160623  \n",
       "362599   1140  20160623  \n",
       "362600   1140  20160623  \n",
       "362601   1140  20160623  \n",
       "362602   1140  20160623  \n",
       "362603   1140  20160623  \n",
       "362604   1318  20160623  \n",
       "362605   1318  20160623  \n",
       "362606   1318  20160623  \n",
       "362607   1019  20160623  \n",
       "362608   1019  20160623  \n",
       "362609    442  20160623  \n",
       "362610    442  20160623  \n",
       "362611    442  20160623  \n",
       "362612    442  20160623  \n",
       "362613    442  20160623  \n",
       "362614    442  20160623  \n",
       "362615    442  20160623  \n",
       "362616   1266  20160623  \n",
       "362617   1266  20160623  \n",
       "362618   1266  20160623  \n",
       "362619    500  20160623  \n",
       "362620    500  20160623  \n",
       "362621   2000  20160623  \n",
       "362622   2000  20160623  \n",
       "362623    910  20160623  \n",
       "362624    910  20160623  \n",
       "362625    910  20160623  \n",
       "362626    910  20160623  \n",
       "\n",
       "[362627 rows x 341 columns]>"
      ]
     },
     "execution_count": 5,
     "metadata": {},
     "output_type": "execute_result"
    }
   ],
   "source": [
    "pnad.head"
   ]
  },
  {
   "cell_type": "code",
   "execution_count": 6,
   "metadata": {
    "collapsed": false
   },
   "outputs": [
    {
     "data": {
      "text/plain": [
       "0          4\n",
       "1          4\n",
       "2        NaN\n",
       "3          4\n",
       "4          4\n",
       "5          2\n",
       "6          4\n",
       "7          4\n",
       "8          4\n",
       "9          4\n",
       "10         4\n",
       "11         2\n",
       "12         4\n",
       "13         4\n",
       "14         4\n",
       "15         4\n",
       "16         4\n",
       "17         4\n",
       "18         4\n",
       "19         4\n",
       "20         4\n",
       "21         4\n",
       "22         4\n",
       "23         4\n",
       "24       NaN\n",
       "25         2\n",
       "26         2\n",
       "27         4\n",
       "28         4\n",
       "29         4\n",
       "          ..\n",
       "362597     4\n",
       "362598     4\n",
       "362599     4\n",
       "362600     4\n",
       "362601     4\n",
       "362602     4\n",
       "362603     4\n",
       "362604     4\n",
       "362605     4\n",
       "362606     4\n",
       "362607     4\n",
       "362608     4\n",
       "362609     4\n",
       "362610     4\n",
       "362611     4\n",
       "362612     4\n",
       "362613     4\n",
       "362614     4\n",
       "362615     4\n",
       "362616     4\n",
       "362617     4\n",
       "362618   NaN\n",
       "362619     4\n",
       "362620     4\n",
       "362621     4\n",
       "362622     4\n",
       "362623     4\n",
       "362624     4\n",
       "362625     4\n",
       "362626     4\n",
       "Name: V9122, dtype: float64"
      ]
     },
     "execution_count": 6,
     "metadata": {},
     "output_type": "execute_result"
    }
   ],
   "source": [
    "pnad.V9122"
   ]
  },
  {
   "cell_type": "code",
   "execution_count": 29,
   "metadata": {
    "collapsed": false
   },
   "outputs": [
    {
     "data": {
      "text/plain": [
       "4    19628\n",
       "2    19015\n",
       "Name: V0302, dtype: int64"
      ]
     },
     "execution_count": 29,
     "metadata": {},
     "output_type": "execute_result"
    },
    {
     "data": {
      "image/png": "[encoded data removed]",
      "text/plain": [
       "<matplotlib.figure.Figure at 0x114f23f98>"
      ]
     },
     "metadata": {},
     "output_type": "display_data"
    }
   ],
   "source": [
    "aposentados =pnad[pnad.V9122 == 2].V0302.value_counts()\n",
    "aposentados.plot(kind='bar', color=('Pink', 'Blue'), legend=False, title='aposentados')\n",
    "aposentados"
   ]
  },
  {
   "cell_type": "code",
   "execution_count": 30,
   "metadata": {
    "collapsed": false
   },
   "outputs": [
    {
     "data": {
      "text/plain": [
       "<matplotlib.axes._subplots.AxesSubplot at 0x114d69240>"
      ]
     },
     "execution_count": 30,
     "metadata": {},
     "output_type": "execute_result"
    },
    {
     "data": {
      "image/png": "[encoded data removed]",
      "text/plain": [
       "<matplotlib.figure.Figure at 0x117a6a198>"
      ]
     },
     "metadata": {},
     "output_type": "display_data"
    }
   ],
   "source": [
    "aposentados.plot(kind='pie', legend=False, title='aposentados')"
   ]
  },
  {
   "cell_type": "code",
   "execution_count": 31,
   "metadata": {
    "collapsed": false
   },
   "outputs": [
    {
     "data": {
      "text/plain": [
       "<matplotlib.axes._subplots.AxesSubplot at 0x117aa4a90>"
      ]
     },
     "execution_count": 31,
     "metadata": {},
     "output_type": "execute_result"
    },
    {
     "data": {
      "image/png": "[encoded data removed]",
      "text/plain": [
       "<matplotlib.figure.Figure at 0x117ac2c50>"
      ]
     },
     "metadata": {},
     "output_type": "display_data"
    }
   ],
   "source": [
    "aposentados.plot.box(title='aposentados, em bloxplot')"
   ]
  },
  {
   "cell_type": "code",
   "execution_count": null,
   "metadata": {
    "collapsed": false
   },
   "outputs": [],
   "source": [
    "faixas = np.arange(55,100,5) #55 eh a idade que as mulheres ja podem se aposentar \n",
    "pnad[pnad.V9122==2].V8005.plot.hist(title=\"idade dos aposentados do brasil\",bins=faixas)"
   ]
  },
  {
   "cell_type": "code",
   "execution_count": 1,
   "metadata": {
    "collapsed": false
   },
   "outputs": [
    {
     "ename": "NameError",
     "evalue": "name 'pnad' is not defined",
     "output_type": "error",
     "traceback": [
      "\u001b[0;31m---------------------------------------------------------------------------\u001b[0m",
      "\u001b[0;31mNameError\u001b[0m                                 Traceback (most recent call last)",
      "\u001b[0;32m<ipython-input-1-0400eab3c740>\u001b[0m in \u001b[0;36m<module>\u001b[0;34m()\u001b[0m\n\u001b[0;32m----> 1\u001b[0;31m \u001b[0mcor\u001b[0m \u001b[0;34m=\u001b[0m \u001b[0mpnad\u001b[0m\u001b[0;34m[\u001b[0m\u001b[0mpnad\u001b[0m\u001b[0;34m.\u001b[0m\u001b[0mV0404\u001b[0m\u001b[0;34m]\u001b[0m\u001b[0;34m.\u001b[0m\u001b[0maposentados\u001b[0m\u001b[0;34m.\u001b[0m\u001b[0mvalue_counts\u001b[0m\u001b[0;34m(\u001b[0m\u001b[0;34m)\u001b[0m\u001b[0;34m\u001b[0m\u001b[0m\n\u001b[0m\u001b[1;32m      2\u001b[0m \u001b[0mcor\u001b[0m\u001b[0;34m.\u001b[0m\u001b[0mplot\u001b[0m\u001b[0;34m(\u001b[0m\u001b[0mkind\u001b[0m\u001b[0;34m=\u001b[0m\u001b[0;34m'bar'\u001b[0m\u001b[0;34m,\u001b[0m \u001b[0mcolor\u001b[0m\u001b[0;34m=\u001b[0m\u001b[0;34m(\u001b[0m\u001b[0;34m'white'\u001b[0m\u001b[0;34m,\u001b[0m \u001b[0;34m'brown'\u001b[0m\u001b[0;34m,\u001b[0m \u001b[0;34m'black'\u001b[0m\u001b[0;34m,\u001b[0m \u001b[0;34m'yellow'\u001b[0m\u001b[0;34m,\u001b[0m \u001b[0;34m'red'\u001b[0m\u001b[0;34m)\u001b[0m\u001b[0;34m,\u001b[0m \u001b[0mlegend\u001b[0m\u001b[0;34m=\u001b[0m\u001b[0;32mFalse\u001b[0m\u001b[0;34m,\u001b[0m\u001b[0mtitle\u001b[0m\u001b[0;34m=\u001b[0m\u001b[0;34m'Cor'\u001b[0m\u001b[0;34m)\u001b[0m\u001b[0;34m\u001b[0m\u001b[0m\n\u001b[1;32m      3\u001b[0m \u001b[0mcor\u001b[0m\u001b[0;34m\u001b[0m\u001b[0m\n",
      "\u001b[0;31mNameError\u001b[0m: name 'pnad' is not defined"
     ]
    }
   ],
   "source": [
    "cor = pnad[pnad.V0404].aposentados.value_counts()\n",
    "cor.plot(kind='bar', color=('white', 'brown', 'black', 'yellow', 'red'), legend=False,title='Cor')\n",
    "cor"
   ]
  },
  {
   "cell_type": "code",
   "execution_count": null,
   "metadata": {
    "collapsed": false
   },
   "outputs": [],
   "source": [
    "ct= pd.crosstab(pnad.V9122 == 2, pnad.V0601)\n",
    "ct.plot(kind='bar', color = ('yellow', 'salmon'))"
   ]
  },
  {
   "cell_type": "code",
   "execution_count": null,
   "metadata": {
    "collapsed": false
   },
   "outputs": [],
   "source": [
    "ct"
   ]
  },
  {
   "cell_type": "code",
   "execution_count": 23,
   "metadata": {
    "collapsed": false
   },
   "outputs": [
    {
     "data": {
      "text/plain": [
       "<matplotlib.text.Text at 0x117b29470>"
      ]
     },
     "execution_count": 23,
     "metadata": {},
     "output_type": "execute_result"
    },
    {
     "data": {
      "image/png": "[encoded data removed]",
      "text/plain": [
       "<matplotlib.figure.Figure at 0x11df13320>"
      ]
     },
     "metadata": {},
     "output_type": "display_data"
    }
   ],
   "source": [
    "renda = pnad.V4720\n",
    "renda_aposentados = pnad[pnad.V9122==2].V4720\n",
    "arranjo = np.arange(0,10000,300)\n",
    "renda_aposentados.describe()\n",
    "plot =renda_aposentados.plot.hist(arranjo, color=\"pink\")\n",
    "plt.title(\"Histograma da Renda\")\n",
    "plt.xlabel(\"Renda \")"
   ]
  },
  {
   "cell_type": "code",
   "execution_count": null,
   "metadata": {
    "collapsed": true
   },
   "outputs": [],
   "source": [
    "nivel_ensino=dados.V4802.value_counts()\n",
    "nivel_ensino.plot(kind='bar', color=('white', 'brown', 'black', 'yellow', 'red'), legend=False,title='nivel de ensino') "
   ]
  },
  {
   "cell_type": "code",
   "execution_count": null,
   "metadata": {
    "collapsed": true
   },
   "outputs": [],
   "source": [
    "ensinoaposentados = pnad[pnad.V4802].aposentados\n",
    "ensinoaposentados.plot(kind='bar', color=('red','black'),legend = False, title = 'ensino dos aposentados')"
   ]
  },
  {
   "cell_type": "markdown",
   "metadata": {
    "collapsed": false
   },
   "source": [
    "___\n",
    "## Conclusão "
   ]
  },
  {
   "cell_type": "markdown",
   "metadata": {
    "collapsed": true
   },
   "source": [
    "De acordo com as analises feitas podemos ver que existem mais aposentados brancos, mostrando a desigualdade que existe. tambem vemos que ha mais mulher aposentada do que homens, porem isso era de se esperar ja que a idade para elas se aposentarem é menor do que a dos homens."
   ]
  }
 ],
 "metadata": {
  "anaconda-cloud": {},
  "kernelspec": {
   "display_name": "Python 3",
   "language": "python",
   "name": "python3"
  },
  "language_info": {
   "codemirror_mode": {
    "name": "ipython",
    "version": 3
   },
   "file_extension": ".py",
   "mimetype": "text/x-python",
   "name": "python",
   "nbconvert_exporter": "python",
   "pygments_lexer": "ipython3",
   "version": "3.5.2"
  }
 },
 "nbformat": 4,
 "nbformat_minor": 0
}
